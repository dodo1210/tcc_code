{
 "cells": [
  {
   "cell_type": "code",
   "execution_count": 1,
   "metadata": {
    "collapsed": false
   },
   "outputs": [],
   "source": [
    "from morty.extras.foldgenerator import FoldGenerator\n",
    "from morty.classifiers.knnclassifier import KNNClassifier\n",
    "from morty.evaluator import Evaluator\n",
    "import numpy as np\n",
    "import json\n",
    "import os"
   ]
  },
  {
   "cell_type": "code",
   "execution_count": 2,
   "metadata": {
    "collapsed": true
   },
   "outputs": [],
   "source": [
    "# data\n",
    "data_folder = 'data'\n",
    "annotation_file = os.path.join(data_folder, 'annotations.json')\n",
    "annotations = json.load(open(annotation_file, 'r'))"
   ]
  },
  {
   "cell_type": "code",
   "execution_count": 3,
   "metadata": {
    "collapsed": true
   },
   "outputs": [],
   "source": [
    "# divide the data into stratified 5-fold\n",
    "random_state = 1  # for reproducability\n",
    "folds = FoldGenerator.stratified_k_fold(data_folder, annotations, n_folds=5, \n",
    "                                        random_state=random_state)"
   ]
  },
  {
   "cell_type": "code",
   "execution_count": 4,
   "metadata": {
    "collapsed": true
   },
   "outputs": [],
   "source": [
    "# instantiate the classifier object\n",
    "step_size = 7.5\n",
    "kernel_width = 15\n",
    "model_type = 'multi'\n",
    "distribution_type = \"pcd\"\n",
    "distance_method = \"bhat\"\n",
    "rank = 2\n",
    "k_neighbor = 15\n",
    "min_peak_ratio = 0.15\n",
    "classifier = KNNClassifier(step_size=step_size, kernel_width=kernel_width, \n",
    "                           feature_type=distribution_type)\n",
    "ev = Evaluator()"
   ]
  },
  {
   "cell_type": "code",
   "execution_count": 5,
   "metadata": {
    "collapsed": false,
    "scrolled": true
   },
   "outputs": [
    {
     "name": "stdout",
     "output_type": "stream",
     "text": [
      "mbid: 0f0e4bc3-67f9-4727-818b-983320e897cb\n",
      "Tonic Iden: Est: 451.6Hz\t Anno: 225.6Hz\tEval: True\n",
      "Mode Recog: Est: Saba    \t Anno: Saba    \tEval: True\n",
      "Joint Estim:\n",
      "\tTonic Iden: Est: 451.6Hz\t Anno: 225.6Hz\tEval: True\n",
      "\tMode Recog: Est: Saba    \t Anno: Saba    \tEval: True\n",
      "\n",
      "----------------------------------------------------------------------\n",
      "mbid: 0db48ce4-f018-4d7d-b75e-66a64db72067\n",
      "Tonic Iden: Est: 303.1Hz\t Anno: 151.1Hz\tEval: True\n",
      "Mode Recog: Est: Hicaz   \t Anno: Hicaz   \tEval: True\n",
      "Joint Estim:\n",
      "\tTonic Iden: Est: 303.1Hz\t Anno: 151.1Hz\tEval: True\n",
      "\tMode Recog: Est: Hicaz   \t Anno: Hicaz   \tEval: True\n",
      "\n",
      "----------------------------------------------------------------------\n",
      "mbid: 0eac190d-13c4-442f-bb13-cf734d3cbe88\n",
      "Tonic Iden: Est: 441.9Hz\t Anno: 221.0Hz\tEval: True\n",
      "Mode Recog: Est: Hicaz   \t Anno: Huseyni \tEval: False\n",
      "Joint Estim:\n",
      "\tTonic Iden: Est: 664.0Hz\t Anno: 221.0Hz\tEval: False\n",
      "\tMode Recog: Est: Hicaz   \t Anno: Huseyni \tEval: False\n",
      "\n",
      "----------------------------------------------------------------------\n",
      "mbid: 2ff5b6e0-7616-4b49-8fb6-c423d676d9a6\n",
      "Tonic Iden: Est: 249.5Hz\t Anno: 248.8Hz\tEval: True\n",
      "Mode Recog: Est: Saba    \t Anno: Saba    \tEval: True\n",
      "Joint Estim:\n",
      "\tTonic Iden: Est: 249.5Hz\t Anno: 248.8Hz\tEval: True\n",
      "\tMode Recog: Est: Saba    \t Anno: Saba    \tEval: True\n",
      "\n",
      "----------------------------------------------------------------------\n",
      "mbid: 4cba17f6-686e-49ec-8a41-6f6b587d4489\n",
      "Tonic Iden: Est: 292.8Hz\t Anno: 294.0Hz\tEval: True\n",
      "Mode Recog: Est: Hicaz   \t Anno: Hicaz   \tEval: True\n",
      "Joint Estim:\n",
      "\tTonic Iden: Est: 292.8Hz\t Anno: 294.0Hz\tEval: True\n",
      "\tMode Recog: Est: Hicaz   \t Anno: Hicaz   \tEval: True\n",
      "\n",
      "----------------------------------------------------------------------\n",
      "mbid: 3a29097a-a453-4d25-b601-d8113004655a\n",
      "Tonic Iden: Est: 455.5Hz\t Anno: 304.2Hz\tEval: False\n",
      "Mode Recog: Est: Huseyni \t Anno: Huseyni \tEval: True\n",
      "Joint Estim:\n",
      "\tTonic Iden: Est: 304.5Hz\t Anno: 304.2Hz\tEval: True\n",
      "\tMode Recog: Est: Huseyni \t Anno: Huseyni \tEval: True\n",
      "\n",
      "----------------------------------------------------------------------\n",
      "mbid: 1e14ece7-f5cd-4a58-aa15-b82253b1b858\n",
      "Tonic Iden: Est: 393.1Hz\t Anno: 394.0Hz\tEval: True\n",
      "Mode Recog: Est: Saba    \t Anno: Saba    \tEval: True\n",
      "Joint Estim:\n",
      "\tTonic Iden: Est: 393.1Hz\t Anno: 394.0Hz\tEval: True\n",
      "\tMode Recog: Est: Saba    \t Anno: Saba    \tEval: True\n",
      "\n",
      "----------------------------------------------------------------------\n",
      "mbid: 2c88acdf-685d-42c7-913d-1a9f2005587e\n",
      "Tonic Iden: Est: 292.8Hz\t Anno: 292.5Hz\tEval: True\n",
      "Mode Recog: Est: Hicaz   \t Anno: Hicaz   \tEval: True\n",
      "Joint Estim:\n",
      "\tTonic Iden: Est: 292.8Hz\t Anno: 292.5Hz\tEval: True\n",
      "\tMode Recog: Est: Hicaz   \t Anno: Hicaz   \tEval: True\n",
      "\n",
      "----------------------------------------------------------------------\n",
      "mbid: 03bcfc5c-4a34-490f-bdfa-1c8c2766bb50\n",
      "Tonic Iden: Est: 342.2Hz\t Anno: 170.5Hz\tEval: True\n",
      "Mode Recog: Est: Huseyni \t Anno: Huseyni \tEval: True\n",
      "Joint Estim:\n",
      "\tTonic Iden: Est: 342.2Hz\t Anno: 170.5Hz\tEval: True\n",
      "\tMode Recog: Est: Huseyni \t Anno: Huseyni \tEval: True\n",
      "\n",
      "----------------------------------------------------------------------\n",
      "mbid: 1f6af8f0-9c70-4afe-99ab-40720fb2f26f\n",
      "Tonic Iden: Est: 294.1Hz\t Anno: 147.0Hz\tEval: True\n",
      "Mode Recog: Est: Saba    \t Anno: Saba    \tEval: True\n",
      "Joint Estim:\n",
      "\tTonic Iden: Est: 294.1Hz\t Anno: 147.0Hz\tEval: True\n",
      "\tMode Recog: Est: Saba    \t Anno: Saba    \tEval: True\n",
      "\n",
      "----------------------------------------------------------------------\n",
      "mbid: 3c25f0d8-a6df-4bde-87ef-e4af708b861d\n",
      "Tonic Iden: Est: 603.7Hz\t Anno: 150.0Hz\tEval: True\n",
      "Mode Recog: Est: Hicaz   \t Anno: Hicaz   \tEval: True\n",
      "Joint Estim:\n",
      "\tTonic Iden: Est: 603.7Hz\t Anno: 150.0Hz\tEval: True\n",
      "\tMode Recog: Est: Hicaz   \t Anno: Hicaz   \tEval: True\n",
      "\n",
      "----------------------------------------------------------------------\n",
      "mbid: 3b014584-cbe2-4042-99ec-93249f43c040\n",
      "Tonic Iden: Est: 443.8Hz\t Anno: 443.1Hz\tEval: True\n",
      "Mode Recog: Est: Huseyni \t Anno: Huseyni \tEval: True\n",
      "Joint Estim:\n",
      "\tTonic Iden: Est: 443.8Hz\t Anno: 443.1Hz\tEval: True\n",
      "\tMode Recog: Est: Huseyni \t Anno: Huseyni \tEval: True\n",
      "\n",
      "----------------------------------------------------------------------\n",
      "mbid: 0b45417b-acb4-4f8a-b180-5ad45be889af\n",
      "Tonic Iden: Est: 327.7Hz\t Anno: 328.3Hz\tEval: True\n",
      "Mode Recog: Est: Saba    \t Anno: Saba    \tEval: True\n",
      "Joint Estim:\n",
      "\tTonic Iden: Est: 327.7Hz\t Anno: 328.3Hz\tEval: True\n",
      "\tMode Recog: Est: Saba    \t Anno: Saba    \tEval: True\n",
      "\n",
      "----------------------------------------------------------------------\n",
      "mbid: 4ec0d8ed-c913-4318-9237-9743ab58ecfb\n",
      "Tonic Iden: Est: 373.2Hz\t Anno: 187.4Hz\tEval: True\n",
      "Mode Recog: Est: Hicaz   \t Anno: Hicaz   \tEval: True\n",
      "Joint Estim:\n",
      "\tTonic Iden: Est: 373.2Hz\t Anno: 187.4Hz\tEval: True\n",
      "\tMode Recog: Est: Hicaz   \t Anno: Hicaz   \tEval: True\n",
      "\n",
      "----------------------------------------------------------------------\n",
      "mbid: 3b4b9ccf-475b-4d0d-a16d-c42c9dbb0f85\n",
      "Tonic Iden: Est: 391.4Hz\t Anno: 195.6Hz\tEval: True\n",
      "Mode Recog: Est: Huseyni \t Anno: Huseyni \tEval: True\n",
      "Joint Estim:\n",
      "\tTonic Iden: Est: 391.4Hz\t Anno: 195.6Hz\tEval: True\n",
      "\tMode Recog: Est: Huseyni \t Anno: Huseyni \tEval: True\n",
      "\n",
      "----------------------------------------------------------------------\n"
     ]
    }
   ],
   "source": [
    "# train, test and evaluate the method for each fold\n",
    "tonic_res = []\n",
    "mode_res = []\n",
    "joint_res = []\n",
    "for fold in folds:\n",
    "    classifier.train(model_type=model_type, **fold['training'])\n",
    "    \n",
    "    # testing\n",
    "    testing_data = fold['testing']\n",
    "    for t in testing_data:          \n",
    "        # tonic identification\n",
    "        tonic = classifier.estimate_tonic(\n",
    "            t['pitch'], t['mode'], min_peak_ratio=min_peak_ratio, \n",
    "            distance_method=distance_method, k_neighbor=k_neighbor, rank=rank)\n",
    "        \n",
    "        # mode recognition\n",
    "        mode = classifier.estimate_mode(\n",
    "            t['pitch'], t['tonic'], distance_method=distance_method, \n",
    "            k_neighbor=k_neighbor, rank=rank)\n",
    "\n",
    "        # joint estimation\n",
    "        joint = classifier.estimate_joint(\n",
    "            t['pitch'], min_peak_ratio=min_peak_ratio, distance_method=distance_method, \n",
    "            k_neighbor=k_neighbor, rank=rank)\n",
    "        \n",
    "        # evaluate\n",
    "        tonic_res.append(ev.evaluate_tonic(tonic[0][0], t['tonic'], t['source']))\n",
    "        mode_res.append(ev.evaluate_mode(mode[0][0], t['mode'], t['source']))\n",
    "        joint_res.append(ev.evaluate_joint([joint[0][0][0], t[\"tonic\"]], \n",
    "                                           [joint[0][0][1], t[\"mode\"]], t['source']))\n",
    "        \n",
    "        # display results\n",
    "        print(u\"mbid: {0:s}\".format(t[\"source\"]))\n",
    "        print(u\"Tonic Iden: Est: {0:.1f}Hz\\t Anno: {1:.1f}Hz\\tEval: {2:s}\"\n",
    "              .format(tonic[0][0], t[\"tonic\"], str(tonic_res[-1]['tonic_eval'])))\n",
    "        print(u\"Mode Recog: Est: {0:8.8s}\\t Anno: {1:8.8s}\\tEval: {2:s}\"\n",
    "              .format(mode[0][0], t[\"mode\"], str(mode_res[-1]['mode_eval'])))\n",
    "        print(u\"Joint Estim:\\n\"\n",
    "              u\"\\tTonic Iden: Est: {0:.1f}Hz\\t Anno: {1:.1f}Hz\\tEval: {2!r}\\n\"\n",
    "              u\"\\tMode Recog: Est: {3:8.8s}\\t Anno: {4:8.8s}\\tEval: {5!r}\\n\"\n",
    "              .\n",
    "              format(joint[0][0][0], t['tonic'], joint_res[-1]['tonic_eval'],\n",
    "                     joint[0][0][1], t['mode'], joint_res[-1]['mode_eval']))\n",
    "        print(\"----------------------------------------------------------------------\")"
   ]
  },
  {
   "cell_type": "code",
   "execution_count": 6,
   "metadata": {
    "collapsed": false
   },
   "outputs": [
    {
     "name": "stdout",
     "output_type": "stream",
     "text": [
      "Tonic Accuracy: 0.93\n",
      "Mode Accuracy : 0.93\n",
      "Joint Accuracy: 0.93\n"
     ]
    }
   ],
   "source": [
    "# get overall results \n",
    "tonic_accuracy = np.mean([b['tonic_eval'] for b in tonic_res])\n",
    "mode_accuracy = np.mean([b['mode_eval'] for b in mode_res])\n",
    "joint_accuracy = np.mean([b['joint_eval'] for b in joint_res])\n",
    "\n",
    "# display\n",
    "print(\"Tonic Accuracy: %.2f\" %tonic_accuracy)\n",
    "print(\"Mode Accuracy : %.2f\" %mode_accuracy)\n",
    "print(\"Joint Accuracy: %.2f\" %joint_accuracy)"
   ]
  }
 ],
 "metadata": {
  "kernelspec": {
   "display_name": "Python 2",
   "language": "python",
   "name": "python2"
  },
  "language_info": {
   "codemirror_mode": {
    "name": "ipython",
    "version": 2.0
   },
   "file_extension": ".py",
   "mimetype": "text/x-python",
   "name": "python",
   "nbconvert_exporter": "python",
   "pygments_lexer": "ipython2",
   "version": "2.7.11+"
  }
 },
 "nbformat": 4,
 "nbformat_minor": 0
}